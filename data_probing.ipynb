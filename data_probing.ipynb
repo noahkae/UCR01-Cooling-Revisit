{
 "cells": [
  {
   "cell_type": "markdown",
   "id": "4d6de5b5",
   "metadata": {},
   "source": [
    "# Im pissed"
   ]
  },
  {
   "cell_type": "code",
   "execution_count": 22,
   "id": "6e672d0c",
   "metadata": {},
   "outputs": [],
   "source": [
    "import pandas as pd\n",
    "import numpy as np\n",
    "import matplotlib.pyplot as plt"
   ]
  },
  {
   "cell_type": "code",
   "execution_count": 23,
   "id": "97b987f8",
   "metadata": {},
   "outputs": [],
   "source": [
    "import os\n",
    "\n",
    "df_list = {}\n",
    "\n",
    "directory = 'Decoded Data Revised'\n",
    "for filename in os.listdir(directory):\n",
    "    if filename.endswith('.csv'):\n",
    "        filepath = os.path.join(directory, filename)\n",
    "        df_list[filename] = pd.read_csv(filepath)"
   ]
  },
  {
   "cell_type": "code",
   "execution_count": 24,
   "id": "4051db50",
   "metadata": {},
   "outputs": [],
   "source": [
    "prefixes = (\"Cell\", \"gnss\", \"RR\", \"RL\", \"FR\", \"FL\")\n",
    "\n",
    "drop_exact = [\n",
    "    \"Channel\", \"CAN ID\", \"Flags\", \"DLC\", \"AMSStatus\", \"APPS1\", \"APPS2\", \"Analog8\", \"BSE\", \"DisplayKvaserCurrent\", \"Encoder1\",\n",
    "    \"Encoder2\", \"Encoder3\", \"Encoder4\", \"FrontLeft\", \"FrontLeftPot\", \"FrontRight\",\n",
    "    \"FrontRightPot\", \"IsolationMonitoring\",\n",
    "    \"IsolationMonitoring1\", \"LeftRad\", \"PDMBattVoltage\", \"REGID\",\n",
    "    \"RearLeft\", \"RearLeftPot\", \"RearRight\", \"RearRightPot\", \"RightRad\", \"PackCurrent\", \"Data\"\n",
    "]\n",
    "\n",
    "for df in df_list.values():\n",
    "    df = df.drop(columns=[col for col in df.columns \n",
    "                        if col.startswith(prefixes) or col in drop_exact])"
   ]
  },
  {
   "cell_type": "code",
   "execution_count": 25,
   "id": "5e13e409",
   "metadata": {},
   "outputs": [],
   "source": [
    "keep_cols = [\"Timestamp\"]\n",
    "\n",
    "for df in df_list.values():\n",
    "    data_cols = [c for c in df.columns if c not in keep_cols]\n",
    "\n",
    "    df = df[~((df[data_cols].fillna(0) == 0).all(axis=1))]"
   ]
  },
  {
   "cell_type": "code",
   "execution_count": 26,
   "id": "d10d9bac",
   "metadata": {},
   "outputs": [],
   "source": [
    "for key in df_list:\n",
    "    # Get the DataFrame\n",
    "    df = df_list[key]\n",
    "    \n",
    "    # Convert Timestamp to numeric\n",
    "    df['Timestamp'] = pd.to_numeric(df['Timestamp'], errors='coerce')\n",
    "    df = df.set_index('Timestamp')\n",
    "\n",
    "    # Interpolate all columns based on Timestamp values\n",
    "    df = df.interpolate(method='values')\n",
    "\n",
    "    # Reset index to restore Timestamp as a column\n",
    "    df = df.reset_index()\n",
    "\n",
    "    # Slice the data and reset index\n",
    "    df = df.iloc[3750:].reset_index(drop=True)\n",
    "\n",
    "    # Calculate and apply timestamp offset\n",
    "    if len(df) > 0:  # Check if DataFrame is not empty\n",
    "        timestamp_offset = df.loc[0, 'Timestamp']\n",
    "        df['Timestamp'] = df['Timestamp'] - timestamp_offset\n",
    "    \n",
    "    # Save the modified DataFrame back to the dictionary\n",
    "    df_list[key] = df"
   ]
  },
  {
   "cell_type": "code",
   "execution_count": 28,
   "id": "943865fd",
   "metadata": {},
   "outputs": [],
   "source": [
    "for name, df in df_list.items():\n",
    "    df = df.set_index('Timestamp')\n",
    "    # Create a new column for 0.1s bins\n",
    "    df['timestep'] = (df.index / 0.1).round().astype(int) * 0.1\n",
    "    # Group by the new timestep and average\n",
    "    df_10hz = df.groupby('timestep').mean().reset_index().rename(columns={'timestep': 'Timestamp'})\n",
    "    df_10hz.to_csv('10HZ-Revision/decoded_10Hz_' + name, index=False)"
   ]
  },
  {
   "cell_type": "code",
   "execution_count": null,
   "id": "2ada8be3",
   "metadata": {},
   "outputs": [],
   "source": [
    "#df.to_csv('cleaned_data.csv', index=False)\n",
    "\n",
    "#df_10hz.to_csv('cleaned_data_10hz.csv', index=False)"
   ]
  }
 ],
 "metadata": {
  "kernelspec": {
   "display_name": "Python 3",
   "language": "python",
   "name": "python3"
  },
  "language_info": {
   "codemirror_mode": {
    "name": "ipython",
    "version": 3
   },
   "file_extension": ".py",
   "mimetype": "text/x-python",
   "name": "python",
   "nbconvert_exporter": "python",
   "pygments_lexer": "ipython3",
   "version": "3.12.3"
  }
 },
 "nbformat": 4,
 "nbformat_minor": 5
}
