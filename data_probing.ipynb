{
 "cells": [
  {
   "cell_type": "markdown",
   "id": "4d6de5b5",
   "metadata": {},
   "source": [
    "# UCR-01 Data Processing, Revisited\n",
    "Some data was collected on the UCR-01, and although it is mostly unusable one day seems to have decent data. As the UCR-02 is unlikely to have significant data collected, we revisit the UCR-01 data to see if any conclusions can be garnered."
   ]
  },
  {
   "cell_type": "markdown",
   "id": "bbc5b814",
   "metadata": {},
   "source": [
    "### Imports"
   ]
  },
  {
   "cell_type": "code",
   "execution_count": 55,
   "id": "6e672d0c",
   "metadata": {},
   "outputs": [],
   "source": [
    "import pandas as pd\n",
    "import numpy as np\n",
    "import matplotlib.pyplot as plt\n",
    "import os"
   ]
  },
  {
   "cell_type": "markdown",
   "id": "52277431",
   "metadata": {},
   "source": [
    "### Opening the data .csvs as a dictionary of dataframes"
   ]
  },
  {
   "cell_type": "code",
   "execution_count": 56,
   "id": "97b987f8",
   "metadata": {},
   "outputs": [],
   "source": [
    "df_dict = {}\n",
    "directory = 'Decoded Data Revised'\n",
    "for filename in os.listdir(directory):\n",
    "    if filename.endswith('.csv'):\n",
    "        filepath = os.path.join(directory, filename)\n",
    "        df_dict[filename] = pd.read_csv(filepath)"
   ]
  },
  {
   "cell_type": "markdown",
   "id": "7f4d2f51",
   "metadata": {},
   "source": [
    "### Keeping the columns useful for cooling system evaluation and renaming accordingly"
   ]
  },
  {
   "cell_type": "code",
   "execution_count": 57,
   "id": "8c065a39",
   "metadata": {},
   "outputs": [],
   "source": [
    "keep_cols = {\n",
    "    'Timestamp': 'time',\n",
    "    'BamocarCurrent': 'controller_current',\n",
    "    'ControllerTempRaw': 'controller_temp',\n",
    "    'FrontLeft': 'fl_wheelspeed',\n",
    "    'FrontRight': 'fr_wheelspeed',\n",
    "    'MotorTempRaw': 'motor_temp',\n",
    "    'PumpsCurrent': 'pumps_current',\n",
    "    'RearLeft': 'rl_wheelspeed',\n",
    "    'RearRight': 'rr_wheelspeed',\n",
    "    'SteeringAngle': 'steering_angle',\n",
    "    'TotalCurrent': 'total_current',\n",
    "    'TractiveVoltage': 'total_voltage',\n",
    "    'east_vel': 'east_vel',\n",
    "    'gnss_height': 'gnss_height',\n",
    "    'gnss_lat': 'gnss_lat',\n",
    "    'gnss_long': 'gnss_long',\n",
    "    'north_vel': 'north_vel',\n",
    "    'up_vel': 'up_vel',\n",
    "}\n",
    "\n",
    "cleaned_dfs = {}\n",
    "\n",
    "for name, df in df_dict.items():\n",
    "    if len(df) > 25000:\n",
    "        columns_to_keep = [col for col in df.columns if col in keep_cols.keys()]  \n",
    "        df = df[columns_to_keep]\n",
    "        df = df.rename(columns=keep_cols)\n",
    "        cleaned_dfs[name] = df"
   ]
  },
  {
   "cell_type": "markdown",
   "id": "4414daa0",
   "metadata": {},
   "source": [
    "### Dropping empty rows"
   ]
  },
  {
   "cell_type": "code",
   "execution_count": 58,
   "id": "5e13e409",
   "metadata": {},
   "outputs": [],
   "source": [
    "ignore_cols = ['time', 'steering_angle']\n",
    "\n",
    "for df in cleaned_dfs.values():\n",
    "    data_cols = [c for c in df.columns if c not in ignore_cols]\n",
    "    df = df[~((df[data_cols].fillna(0) == 0).all(axis=1))]"
   ]
  },
  {
   "cell_type": "markdown",
   "id": "99735e0e",
   "metadata": {},
   "source": [
    "### Interpolating empty values"
   ]
  },
  {
   "cell_type": "code",
   "execution_count": 59,
   "id": "d10d9bac",
   "metadata": {},
   "outputs": [],
   "source": [
    "for key, df in cleaned_dfs.items():\n",
    "    \n",
    "    df['time'] = pd.to_numeric(df['time'], errors='coerce')\n",
    "    df = df.set_index('time')\n",
    "    df = df.interpolate(method='values')\n",
    "    df = df.reset_index()\n",
    "\n",
    "    #df = df.iloc[5000:].reset_index(drop=True) dont think its needed anymore\n",
    "    if len(df) > 0: \n",
    "        timestamp_offset = df.loc[0, 'time']\n",
    "        df['time'] = df['time'] - timestamp_offset\n",
    "    \n",
    "    cleaned_dfs[key] = df"
   ]
  },
  {
   "cell_type": "markdown",
   "id": "43c12684",
   "metadata": {},
   "source": [
    "### Converting thermistor raw values"
   ]
  },
  {
   "cell_type": "code",
   "execution_count": 60,
   "id": "d7aa0438",
   "metadata": {},
   "outputs": [],
   "source": [
    "motor_calibration = pd.read_csv(r'Thermistor Plots\\motor_thermistors.csv')\n",
    "controller_calibration = pd.read_csv(r'Thermistor Plots\\bamocar_thermistors.csv')\n",
    "\n",
    "for df in cleaned_dfs.values():\n",
    "    if 'motor_temp' in df.columns:\n",
    "        df['motor_temp'] = np.interp(df['motor_temp'], \n",
    "                                     motor_calibration['Value'], \n",
    "                                     motor_calibration['Temperature'])\n",
    "    if 'controller_temp' in df.columns:\n",
    "        df['controller_temp'] = np.interp(df['controller_temp'], \n",
    "                                          controller_calibration['Value'], \n",
    "                                          controller_calibration['Temperature'])"
   ]
  },
  {
   "cell_type": "markdown",
   "id": "a70ea6c4",
   "metadata": {},
   "source": [
    "### Saving the processed data"
   ]
  },
  {
   "cell_type": "code",
   "execution_count": 61,
   "id": "30c260b6",
   "metadata": {},
   "outputs": [],
   "source": [
    "with pd.ExcelWriter('10HZ-Revision/decoded_10Hz_data.xlsx') as writer:\n",
    "    for name, df in cleaned_dfs.items():\n",
    "        df = df.set_index('time')\n",
    "        df['timestep'] = (df.index / 0.1).round().astype(int) * 0.1\n",
    "        df_10hz = df.groupby('timestep').mean().reset_index().rename(columns={'timestep': 'time'})\n",
    "        \n",
    "        temp_name = name.split(\"Logfile\")[1].split(\".\")[0]\n",
    "        df_10hz.to_excel(writer, sheet_name=temp_name, index=False)"
   ]
  }
 ],
 "metadata": {
  "kernelspec": {
   "display_name": "Python 3",
   "language": "python",
   "name": "python3"
  },
  "language_info": {
   "codemirror_mode": {
    "name": "ipython",
    "version": 3
   },
   "file_extension": ".py",
   "mimetype": "text/x-python",
   "name": "python",
   "nbconvert_exporter": "python",
   "pygments_lexer": "ipython3",
   "version": "3.12.3"
  }
 },
 "nbformat": 4,
 "nbformat_minor": 5
}
