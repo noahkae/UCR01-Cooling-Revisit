{
 "cells": [
  {
   "cell_type": "markdown",
   "id": "4d6de5b5",
   "metadata": {},
   "source": [
    "# Im pissed"
   ]
  },
  {
   "cell_type": "code",
   "execution_count": 13,
   "id": "6e672d0c",
   "metadata": {},
   "outputs": [],
   "source": [
    "import pandas as pd\n",
    "import numpy as np\n",
    "import matplotlib.pyplot as plt"
   ]
  },
  {
   "cell_type": "code",
   "execution_count": 14,
   "id": "97b987f8",
   "metadata": {},
   "outputs": [],
   "source": [
    "import os\n",
    "\n",
    "df_list = {}\n",
    "\n",
    "directory = 'Decoded Data Revised'\n",
    "for filename in os.listdir(directory):\n",
    "    if filename.endswith('.csv'):\n",
    "        filepath = os.path.join(directory, filename)\n",
    "        df_list[filename] = pd.read_csv(filepath)"
   ]
  },
  {
   "cell_type": "code",
   "execution_count": 15,
   "id": "4051db50",
   "metadata": {},
   "outputs": [],
   "source": [
    "prefixes = (\"Cell\", \"gnss\", \"RR\", \"RL\", \"FR\", \"FL\")\n",
    "\n",
    "drop_exact = [\n",
    "    \"Channel\", \"CAN ID\", \"Flags\", \"DLC\", \"AMSStatus\", \"APPS1\", \"APPS2\", \"Analog8\", \"BSE\", \"DisplayKvaserCurrent\", \"Encoder1\",\n",
    "    \"Encoder2\", \"Encoder3\", \"Encoder4\", \"FrontLeft\", \"FrontLeftPot\", \"FrontRight\",\n",
    "    \"FrontRightPot\", \"IsolationMonitoring\",\n",
    "    \"IsolationMonitoring1\", \"LeftRad\", \"PDMBattVoltage\", \"REGID\",\n",
    "    \"RearLeft\", \"RearLeftPot\", \"RearRight\", \"RearRightPot\", \"RightRad\", \"PackCurrent\", \"Data\"\n",
    "]\n",
    "\n",
    "for df in df_list.values():\n",
    "    df = df.drop(columns=[col for col in df.columns \n",
    "                        if col.startswith(prefixes) or col in drop_exact])"
   ]
  },
  {
   "cell_type": "code",
   "execution_count": 16,
   "id": "5e13e409",
   "metadata": {},
   "outputs": [],
   "source": [
    "keep_cols = [\"Timestamp\"]\n",
    "\n",
    "for df in df_list.values():\n",
    "    data_cols = [c for c in df.columns if c not in keep_cols]\n",
    "\n",
    "    df = df[~((df[data_cols].fillna(0) == 0).all(axis=1))]"
   ]
  },
  {
   "cell_type": "code",
   "execution_count": 17,
   "id": "d10d9bac",
   "metadata": {},
   "outputs": [],
   "source": [
    "for key in df_list:\n",
    "    # Get the DataFrame\n",
    "    df = df_list[key]\n",
    "    \n",
    "    # Convert Timestamp to numeric\n",
    "    df['Timestamp'] = pd.to_numeric(df['Timestamp'], errors='coerce')\n",
    "    df = df.set_index('Timestamp')\n",
    "\n",
    "    # Interpolate all columns based on Timestamp values\n",
    "    df = df.interpolate(method='values')\n",
    "\n",
    "    # Reset index to restore Timestamp as a column\n",
    "    df = df.reset_index()\n",
    "\n",
    "    # Slice the data and reset index\n",
    "    df = df.iloc[3750:].reset_index(drop=True)\n",
    "\n",
    "    # Calculate and apply timestamp offset\n",
    "    if len(df) > 0:  # Check if DataFrame is not empty\n",
    "        timestamp_offset = df.loc[0, 'Timestamp']\n",
    "        df['Timestamp'] = df['Timestamp'] - timestamp_offset\n",
    "    \n",
    "    # Save the modified DataFrame back to the dictionary\n",
    "    df_list[key] = df"
   ]
  },
  {
   "cell_type": "code",
   "execution_count": 18,
   "id": "d7aa0438",
   "metadata": {},
   "outputs": [],
   "source": [
    "# Load the thermistor calibration data\n",
    "motor_calibration = pd.read_csv(r'Thermistor Plots\\motor_thermistors.csv')\n",
    "controller_calibration = pd.read_csv(r'Thermistor Plots\\bamocar_thermistors.csv')\n",
    "\n",
    "# Convert thermistor values to temperatures for each DataFrame\n",
    "for df in df_list.values():\n",
    "    if 'MotorTempRaw' in df.columns:\n",
    "        df['MotorTemp_C'] = np.interp(df['MotorTempRaw'], \n",
    "                                     motor_calibration['Value'], \n",
    "                                     motor_calibration['Temperature'])\n",
    "    if 'ControllerTempRaw' in df.columns:\n",
    "        df['ControllerTemp_C'] = np.interp(df['ControllerTempRaw'], \n",
    "                                          controller_calibration['Value'], \n",
    "                                          controller_calibration['Temperature'])"
   ]
  },
  {
   "cell_type": "code",
   "execution_count": 19,
   "id": "943865fd",
   "metadata": {},
   "outputs": [],
   "source": [
    "for name, df in df_list.items():\n",
    "    df = df.set_index('Timestamp')\n",
    "    # Create a new column for 0.1s bins\n",
    "    df['timestep'] = (df.index / 0.1).round().astype(int) * 0.1\n",
    "    # Group by the new timestep and average\n",
    "    df_10hz = df.groupby('timestep').mean().reset_index().rename(columns={'timestep': 'Timestamp'})\n",
    "    df_10hz.to_csv('10HZ-Revision/decoded_10Hz_' + name, index=False)"
   ]
  }
 ],
 "metadata": {
  "kernelspec": {
   "display_name": "Python 3",
   "language": "python",
   "name": "python3"
  },
  "language_info": {
   "codemirror_mode": {
    "name": "ipython",
    "version": 3
   },
   "file_extension": ".py",
   "mimetype": "text/x-python",
   "name": "python",
   "nbconvert_exporter": "python",
   "pygments_lexer": "ipython3",
   "version": "3.12.3"
  }
 },
 "nbformat": 4,
 "nbformat_minor": 5
}
